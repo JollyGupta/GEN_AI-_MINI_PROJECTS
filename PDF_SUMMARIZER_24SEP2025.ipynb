{
  "nbformat": 4,
  "nbformat_minor": 0,
  "metadata": {
    "colab": {
      "provenance": []
    },
    "kernelspec": {
      "name": "python3",
      "display_name": "Python 3"
    },
    "language_info": {
      "name": "python"
    }
  },
  "cells": [
    {
      "cell_type": "code",
      "execution_count": null,
      "metadata": {
        "id": "xRI8qP9GMbjd"
      },
      "outputs": [],
      "source": [
        "!pip install langchain-groq langchain langchain-community gradio"
      ]
    },
    {
      "cell_type": "code",
      "source": [
        "!pip install pypdf"
      ],
      "metadata": {
        "id": "framoktgMcWk"
      },
      "execution_count": null,
      "outputs": []
    },
    {
      "cell_type": "code",
      "source": [
        "#os.environ[\"GROQ_API_KEY\"] = \"removed my key\"\n",
        "\n",
        "\n",
        "from dotenv import load_dotenv\n",
        "#load_dotenv() automatically loads all variables from .env into your environment\n",
        "\n",
        "\n",
        "import os\n",
        "\n",
        "load_dotenv()  # loads variables from .env\n",
        "GROQ_API_KEY = os.getenv(\"GROQ_API_KEY\")\n",
        "\n",
        "#load_dotenv() automatically loads all variables from .env into your environment\n",
        "\n",
        "\n",
        "\n",
        "if GROQ_API_KEY is None:\n",
        "    raise ValueError(\"Please set your GROQ_API_KEY in .env or as environment variable\")\n"
      ],
      "metadata": {
        "id": "-XErLQFXSm3D"
      },
      "execution_count": 19,
      "outputs": []
    },
    {
      "cell_type": "code",
      "source": [
        "# Original Code- MY Way\n",
        "\n",
        "import os\n",
        "import gradio as gr\n",
        "from langchain_groq import ChatGroq\n",
        "from langchain.prompts import ChatPromptTemplate\n",
        "from langchain_community.document_loaders import PyPDFLoader\n",
        "from langchain.text_splitter import RecursiveCharacterTextSplitter\n",
        "\n",
        "# ======================\n",
        "# API Key Configuration\n",
        "# ======================\n",
        "#os.environ[\"GROQ_API_KEY\"] = \" \"\n",
        "#GROQ_API_KEY = os.environ[\"GROQ_API_KEY\"]\n",
        "\n",
        "# ======================\n",
        "# Initialize LLM\n",
        "# ======================\n",
        "llm = ChatGroq(\n",
        "    model=\"llama-3.1-8b-instant\",  # safer model\n",
        "    temperature=0.7,\n",
        "    max_tokens=1000,\n",
        "    api_key=GROQ_API_KEY\n",
        ")\n",
        "\n",
        "# ======================\n",
        "# PDF Summarization Function\n",
        "# ======================\n",
        "def summarize_pdf(pdf_file, style_input, length_input):\n",
        "    # Load PDF\n",
        "    loader = PyPDFLoader(pdf_file.name)\n",
        "    documents = loader.load()\n",
        "\n",
        "    # Split PDF into chunks\n",
        "    splitter = RecursiveCharacterTextSplitter(\n",
        "        chunk_size=1000,\n",
        "        chunk_overlap=100\n",
        "    )\n",
        "    texts = splitter.split_documents(documents)\n",
        "\n",
        "    # Combine all chunks for full summary\n",
        "    combined_text = \"\\n\".join([t.page_content for t in texts])\n",
        "\n",
        "    # Prompt template\n",
        "    chat_template = ChatPromptTemplate.from_messages([\n",
        "        ('system', 'You are an expert research paper summarizer.'),\n",
        "        ('human', 'Please summarize the following paper in {style_input} style with {length_input} length:\\n{paper_input}')\n",
        "    ])\n",
        "\n",
        "    # Create chain using modern pipe style\n",
        "    chain = chat_template | llm\n",
        "\n",
        "    # Run chain\n",
        "    result = chain.invoke({\n",
        "        'paper_input': combined_text,\n",
        "        'style_input': style_input,\n",
        "        'length_input': length_input\n",
        "    })\n",
        "\n",
        "    return result.content.strip()\n",
        "\n",
        "# ======================\n",
        "# Gradio Interface\n",
        "# ======================\n",
        "iface = gr.Interface(\n",
        "    fn=summarize_pdf,\n",
        "    inputs=[\n",
        "        gr.File(label=\"Upload Paper PDF\"),\n",
        "        gr.Dropdown(\n",
        "            [\"Beginner-Friendly\", \"Technical\", \"Code-Oriented\", \"Mathematical\"],\n",
        "            label=\"Style\"\n",
        "        ),\n",
        "        gr.Dropdown(\n",
        "            [\"Short (1-2 paragraphs)\", \"Medium (3-5 paragraphs)\", \"Long (detailed explanation)\"],\n",
        "            label=\"Length\"\n",
        "        )\n",
        "    ],\n",
        "    outputs=gr.Textbox(\n",
        "        label=\"Output\",\n",
        "        lines=20,\n",
        "        interactive=False,\n",
        "        placeholder=\"The summarized text will appear here...\"\n",
        "    ),\n",
        "    title=\"PDF Summarizer Tool\"\n",
        ")\n",
        "\n",
        "# Launch the app\n",
        "iface.launch(share=True)"
      ],
      "metadata": {
        "colab": {
          "base_uri": "https://localhost:8080/",
          "height": 611
        },
        "id": "Kw8R8lJmrIiB",
        "outputId": "29a7caeb-bd12-4683-914c-d941205ac58d"
      },
      "execution_count": 23,
      "outputs": [
        {
          "output_type": "stream",
          "name": "stdout",
          "text": [
            "Colab notebook detected. To show errors in colab notebook, set debug=True in launch()\n",
            "* Running on public URL: https://99e63ca3324a4a7719.gradio.live\n",
            "\n",
            "This share link expires in 1 week. For free permanent hosting and GPU upgrades, run `gradio deploy` from the terminal in the working directory to deploy to Hugging Face Spaces (https://huggingface.co/spaces)\n"
          ]
        },
        {
          "output_type": "display_data",
          "data": {
            "text/plain": [
              "<IPython.core.display.HTML object>"
            ],
            "text/html": [
              "<div><iframe src=\"https://99e63ca3324a4a7719.gradio.live\" width=\"100%\" height=\"500\" allow=\"autoplay; camera; microphone; clipboard-read; clipboard-write;\" frameborder=\"0\" allowfullscreen></iframe></div>"
            ]
          },
          "metadata": {}
        },
        {
          "output_type": "execute_result",
          "data": {
            "text/plain": []
          },
          "metadata": {},
          "execution_count": 23
        }
      ]
    },
    {
      "cell_type": "code",
      "source": [
        "# Running -code changes by my classmate Ramu, output repeating\n",
        "import os\n",
        "import gradio as gr\n",
        "from langchain_groq import ChatGroq\n",
        "from langchain.prompts import ChatPromptTemplate\n",
        "from langchain.chains import LLMChain\n",
        "from langchain_community.document_loaders import PyPDFLoader\n",
        "from langchain.text_splitter import RecursiveCharacterTextSplitter\n",
        "\n",
        "\n",
        "# ======================\n",
        "# API Key Configuration\n",
        "# ======================\n",
        "#GROQ_API_KEY = \"  \"\n",
        "\n",
        "\n",
        "# ======================\n",
        "# Initialize LLM\n",
        "# ======================\n",
        "llm = ChatGroq(\n",
        "    model=\"llama-3.1-8b-instant\",  # Use an available model\n",
        "    temperature=0.7,\n",
        "    max_tokens=4000,\n",
        "    api_key=GROQ_API_KEY,\n",
        ")\n",
        "\n",
        "\n",
        "# ======================\n",
        "# PDF Summarization Function\n",
        "# ======================\n",
        "def summarize_pdf(pdf_file, style_input, length_input):\n",
        "    # Load PDF\n",
        "    loader = PyPDFLoader(pdf_file.name)\n",
        "    documents = loader.load()\n",
        "\n",
        "    # Split into manageable chunks\n",
        "    splitter = RecursiveCharacterTextSplitter(\n",
        "        chunk_size=1000,\n",
        "        chunk_overlap=100\n",
        "    )\n",
        "    texts = splitter.split_documents(documents)\n",
        "\n",
        "    # Prompt template\n",
        "    chat_template = ChatPromptTemplate.from_messages([\n",
        "        ('system', 'You are an expert research paper summarizer.'),\n",
        "        ('human',\n",
        "         'Please summarize the following paper chunk in {style_input} '\n",
        "         'style with {length_input} length:\\n\\n{paper_chunk}')\n",
        "    ])\n",
        "\n",
        "    # Create the chain\n",
        "    chain = chat_template | llm\n",
        "\n",
        "    # Store summarized chunks\n",
        "    summarized_parts = []\n",
        "\n",
        "    for chunk in texts:\n",
        "        try:\n",
        "            result = chain.invoke({\n",
        "                'paper_chunk': chunk.page_content,\n",
        "                'style_input': style_input,\n",
        "                'length_input': length_input\n",
        "            })\n",
        "            summarized_parts.append(result.content.strip())\n",
        "        except Exception as e:\n",
        "            summarized_parts.append(f\"[Error processing chunk: {str(e)}]\")\n",
        "\n",
        "    # Join summaries\n",
        "    full_summary = \"\\n\\n\".join(summarized_parts)\n",
        "    return full_summary\n",
        "\n",
        "\n",
        "# ======================\n",
        "# Gradio Interface\n",
        "# ======================\n",
        "iface = gr.Interface(\n",
        "    fn=summarize_pdf,\n",
        "    inputs=[\n",
        "        gr.File(label=\"Upload Paper PDF\"),\n",
        "        gr.Dropdown(\n",
        "            [\"Beginner-Friendly\", \"Technical\", \"Code-Oriented\", \"Mathematical\"],\n",
        "            label=\"Style\"\n",
        "        ),\n",
        "        gr.Dropdown(\n",
        "            [\"Short (1-2 paragraphs)\",\n",
        "             \"Medium (3-5 paragraphs)\",\n",
        "             \"Long (detailed explanation)\"],\n",
        "            label=\"Length\"\n",
        "        )\n",
        "    ],\n",
        "    outputs=gr.Textbox(\n",
        "        label=\"Output\",\n",
        "        lines=20,\n",
        "        interactive=False,\n",
        "        placeholder=\"The summarized text will appear here...\"\n",
        "    ),\n",
        "    title=\"PDF Summarizer Tool\"\n",
        ")\n",
        "\n",
        "# Launch Gradio App\n",
        "iface.launch(share=True)\n"
      ],
      "metadata": {
        "id": "uk2dk4eDMcgU",
        "colab": {
          "base_uri": "https://localhost:8080/",
          "height": 611
        },
        "outputId": "73f6cea9-1180-450c-deed-ca5e214e44e4"
      },
      "execution_count": 24,
      "outputs": [
        {
          "output_type": "stream",
          "name": "stdout",
          "text": [
            "Colab notebook detected. To show errors in colab notebook, set debug=True in launch()\n",
            "* Running on public URL: https://1a42d7c8f59be03ddc.gradio.live\n",
            "\n",
            "This share link expires in 1 week. For free permanent hosting and GPU upgrades, run `gradio deploy` from the terminal in the working directory to deploy to Hugging Face Spaces (https://huggingface.co/spaces)\n"
          ]
        },
        {
          "output_type": "display_data",
          "data": {
            "text/plain": [
              "<IPython.core.display.HTML object>"
            ],
            "text/html": [
              "<div><iframe src=\"https://1a42d7c8f59be03ddc.gradio.live\" width=\"100%\" height=\"500\" allow=\"autoplay; camera; microphone; clipboard-read; clipboard-write;\" frameborder=\"0\" allowfullscreen></iframe></div>"
            ]
          },
          "metadata": {}
        },
        {
          "output_type": "execute_result",
          "data": {
            "text/plain": []
          },
          "metadata": {},
          "execution_count": 24
        }
      ]
    },
    {
      "cell_type": "code",
      "source": [
        "# Original Code- MY Way\n",
        "\n",
        "import os\n",
        "import gradio as gr\n",
        "from langchain_groq import ChatGroq\n",
        "from langchain.prompts import ChatPromptTemplate\n",
        "from langchain_community.document_loaders import PyPDFLoader\n",
        "from langchain.text_splitter import RecursiveCharacterTextSplitter\n",
        "\n",
        "# ======================\n",
        "# API Key Configuration\n",
        "# ======================\n",
        "#os.environ[\"GROQ_API_KEY\"] = \" \"\n",
        "#GROQ_API_KEY = os.environ[\"GROQ_API_KEY\"]\n",
        "\n",
        "# ======================\n",
        "# Initialize LLM\n",
        "# ======================\n",
        "llm = ChatGroq(\n",
        "    model=\"llama-3.1-8b-instant\",  # safer model\n",
        "    temperature=0.7,\n",
        "    max_tokens=1000,\n",
        "    api_key=GROQ_API_KEY\n",
        ")\n",
        "\n",
        "# ======================\n",
        "# PDF Summarization Function\n",
        "# ======================\n",
        "def summarize_pdf(pdf_file, style_input, length_input):\n",
        "    # Load PDF\n",
        "    loader = PyPDFLoader(pdf_file.name)\n",
        "    documents = loader.load()\n",
        "\n",
        "    # Split PDF into chunks\n",
        "    splitter = RecursiveCharacterTextSplitter(\n",
        "        chunk_size=1000,\n",
        "        chunk_overlap=100\n",
        "    )\n",
        "    texts = splitter.split_documents(documents)\n",
        "\n",
        "    # Combine all chunks for full summary\n",
        "    combined_text = \"\\n\".join([t.page_content for t in texts])\n",
        "\n",
        "    # Prompt template\n",
        "    chat_template = ChatPromptTemplate.from_messages([\n",
        "        ('system', 'You are an expert research paper summarizer.'),\n",
        "        ('human', 'Please summarize the following paper in {style_input} style with {length_input} length:\\n{paper_input}')\n",
        "    ])\n",
        "\n",
        "    # Create chain using modern pipe style\n",
        "    chain = chat_template | llm\n",
        "\n",
        "    # Run chain\n",
        "    result = chain.invoke({\n",
        "        'paper_input': combined_text,\n",
        "        'style_input': style_input,\n",
        "        'length_input': length_input\n",
        "    })\n",
        "\n",
        "    return result.content.strip()\n",
        "\n",
        "# ======================\n",
        "# Gradio Interface\n",
        "# ======================\n",
        "iface = gr.Interface(\n",
        "    fn=summarize_pdf,\n",
        "    inputs=[\n",
        "        gr.File(label=\"Upload Paper PDF\"),\n",
        "        gr.Dropdown(\n",
        "            [\"Beginner-Friendly\", \"Technical\", \"Code-Oriented\", \"Mathematical\"],\n",
        "            label=\"Style\"\n",
        "        ),\n",
        "        gr.Dropdown(\n",
        "            [\"Short (1-2 paragraphs)\", \"Medium (3-5 paragraphs)\", \"Long (detailed explanation)\"],\n",
        "            label=\"Length\"\n",
        "        )\n",
        "    ],\n",
        "    outputs=gr.Textbox(\n",
        "        label=\"Output\",\n",
        "        lines=20,\n",
        "        interactive=False,\n",
        "        placeholder=\"The summarized text will appear here...\"\n",
        "    ),\n",
        "    title=\"PDF Summarizer Tool\"\n",
        ")\n",
        "\n",
        "# Launch the app\n",
        "iface.launch(share=True)\n"
      ],
      "metadata": {
        "id": "QPXT-7q6Mcp9",
        "colab": {
          "base_uri": "https://localhost:8080/",
          "height": 611
        },
        "outputId": "be1ad0c3-a539-4e3d-f81c-9e7366167fc7"
      },
      "execution_count": 22,
      "outputs": [
        {
          "output_type": "stream",
          "name": "stdout",
          "text": [
            "Colab notebook detected. To show errors in colab notebook, set debug=True in launch()\n",
            "* Running on public URL: https://3f3f9c3d3996cb0722.gradio.live\n",
            "\n",
            "This share link expires in 1 week. For free permanent hosting and GPU upgrades, run `gradio deploy` from the terminal in the working directory to deploy to Hugging Face Spaces (https://huggingface.co/spaces)\n"
          ]
        },
        {
          "output_type": "display_data",
          "data": {
            "text/plain": [
              "<IPython.core.display.HTML object>"
            ],
            "text/html": [
              "<div><iframe src=\"https://3f3f9c3d3996cb0722.gradio.live\" width=\"100%\" height=\"500\" allow=\"autoplay; camera; microphone; clipboard-read; clipboard-write;\" frameborder=\"0\" allowfullscreen></iframe></div>"
            ]
          },
          "metadata": {}
        },
        {
          "output_type": "execute_result",
          "data": {
            "text/plain": []
          },
          "metadata": {},
          "execution_count": 22
        }
      ]
    }
  ]
}